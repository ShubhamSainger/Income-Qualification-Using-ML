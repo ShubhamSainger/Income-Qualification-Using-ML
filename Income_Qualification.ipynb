{
  "nbformat": 4,
  "nbformat_minor": 0,
  "metadata": {
    "kernelspec": {
      "display_name": "Python 3",
      "language": "python",
      "name": "python3"
    },
    "language_info": {
      "codemirror_mode": {
        "name": "ipython",
        "version": 3
      },
      "file_extension": ".py",
      "mimetype": "text/x-python",
      "name": "python",
      "nbconvert_exporter": "python",
      "pygments_lexer": "ipython3",
      "version": "3.7.3"
    },
    "colab": {
      "name": "Income Qualification.ipynb",
      "provenance": [],
      "include_colab_link": true
    }
  },
  "cells": [
    {
      "cell_type": "markdown",
      "metadata": {
        "id": "view-in-github",
        "colab_type": "text"
      },
      "source": [
        "<a href=\"https://colab.research.google.com/github/ShubhamSainger/Income-Qualification-Using-ML/blob/main/Income_Qualification.ipynb\" target=\"_parent\"><img src=\"https://colab.research.google.com/assets/colab-badge.svg\" alt=\"Open In Colab\"/></a>"
      ]
    },
    {
      "cell_type": "code",
      "metadata": {
        "id": "bxkGD4-g_NuW",
        "colab": {
          "base_uri": "https://localhost:8080/"
        },
        "outputId": "ec59d83c-c4fd-4076-c717-5b8892b11168"
      },
      "source": [
        "pip install -U scikit-learn"
      ],
      "execution_count": null,
      "outputs": [
        {
          "output_type": "stream",
          "text": [
            "Collecting scikit-learn\n",
            "\u001b[?25l  Downloading https://files.pythonhosted.org/packages/f3/74/eb899f41d55f957e2591cde5528e75871f817d9fb46d4732423ecaca736d/scikit_learn-0.24.1-cp37-cp37m-manylinux2010_x86_64.whl (22.3MB)\n",
            "\u001b[K     |████████████████████████████████| 22.3MB 1.4MB/s \n",
            "\u001b[?25hRequirement already satisfied, skipping upgrade: joblib>=0.11 in /usr/local/lib/python3.7/dist-packages (from scikit-learn) (1.0.1)\n",
            "Collecting threadpoolctl>=2.0.0\n",
            "  Downloading https://files.pythonhosted.org/packages/f7/12/ec3f2e203afa394a149911729357aa48affc59c20e2c1c8297a60f33f133/threadpoolctl-2.1.0-py3-none-any.whl\n",
            "Requirement already satisfied, skipping upgrade: scipy>=0.19.1 in /usr/local/lib/python3.7/dist-packages (from scikit-learn) (1.4.1)\n",
            "Requirement already satisfied, skipping upgrade: numpy>=1.13.3 in /usr/local/lib/python3.7/dist-packages (from scikit-learn) (1.19.5)\n",
            "Installing collected packages: threadpoolctl, scikit-learn\n",
            "  Found existing installation: scikit-learn 0.22.2.post1\n",
            "    Uninstalling scikit-learn-0.22.2.post1:\n",
            "      Successfully uninstalled scikit-learn-0.22.2.post1\n",
            "Successfully installed scikit-learn-0.24.1 threadpoolctl-2.1.0\n"
          ],
          "name": "stdout"
        }
      ]
    },
    {
      "cell_type": "code",
      "metadata": {
        "id": "AGJpq8JI-Nx_"
      },
      "source": [
        "# importing libraries\n",
        "import numpy as np\n",
        "import pandas as pd\n",
        "import matplotlib.pyplot as plt\n",
        "import seaborn as sns\n",
        "import warnings \n",
        "warnings.filterwarnings(\"ignore\")\n",
        "%matplotlib inline"
      ],
      "execution_count": null,
      "outputs": []
    },
    {
      "cell_type": "code",
      "metadata": {
        "id": "u93jo4Fs-NyF"
      },
      "source": [
        "data = pd.read_csv(r\"/content/drive/MyDrive/ML Project 2/train.csv\")"
      ],
      "execution_count": null,
      "outputs": []
    },
    {
      "cell_type": "code",
      "metadata": {
        "id": "U34WwRbl-NyJ",
        "colab": {
          "base_uri": "https://localhost:8080/"
        },
        "outputId": "ff3d0728-5c4a-43e5-d7e3-aef4126b60be"
      },
      "source": [
        "data.info()"
      ],
      "execution_count": null,
      "outputs": [
        {
          "output_type": "stream",
          "text": [
            "<class 'pandas.core.frame.DataFrame'>\n",
            "RangeIndex: 9557 entries, 0 to 9556\n",
            "Columns: 143 entries, Id to Target\n",
            "dtypes: float64(8), int64(130), object(5)\n",
            "memory usage: 10.4+ MB\n"
          ],
          "name": "stdout"
        }
      ]
    },
    {
      "cell_type": "code",
      "metadata": {
        "colab": {
          "base_uri": "https://localhost:8080/"
        },
        "id": "0ltKd3RbZwJ2",
        "outputId": "6b90bf12-0b28-468f-ac83-8b92ba90dd38"
      },
      "source": [
        "from google.colab import drive\n",
        "drive.mount('/content/drive')"
      ],
      "execution_count": null,
      "outputs": [
        {
          "output_type": "stream",
          "text": [
            "Drive already mounted at /content/drive; to attempt to forcibly remount, call drive.mount(\"/content/drive\", force_remount=True).\n"
          ],
          "name": "stdout"
        }
      ]
    },
    {
      "cell_type": "code",
      "metadata": {
        "id": "LARggeXm-NyN",
        "colab": {
          "base_uri": "https://localhost:8080/",
          "height": 166
        },
        "outputId": "b616b920-a291-46d0-b739-aa3fd4f49186"
      },
      "source": [
        "# This shows that we have to wrangle our categorical variables\n",
        "data.describe(include = 'O')"
      ],
      "execution_count": null,
      "outputs": [
        {
          "output_type": "execute_result",
          "data": {
            "text/html": [
              "<div>\n",
              "<style scoped>\n",
              "    .dataframe tbody tr th:only-of-type {\n",
              "        vertical-align: middle;\n",
              "    }\n",
              "\n",
              "    .dataframe tbody tr th {\n",
              "        vertical-align: top;\n",
              "    }\n",
              "\n",
              "    .dataframe thead th {\n",
              "        text-align: right;\n",
              "    }\n",
              "</style>\n",
              "<table border=\"1\" class=\"dataframe\">\n",
              "  <thead>\n",
              "    <tr style=\"text-align: right;\">\n",
              "      <th></th>\n",
              "      <th>Id</th>\n",
              "      <th>idhogar</th>\n",
              "      <th>dependency</th>\n",
              "      <th>edjefe</th>\n",
              "      <th>edjefa</th>\n",
              "    </tr>\n",
              "  </thead>\n",
              "  <tbody>\n",
              "    <tr>\n",
              "      <th>count</th>\n",
              "      <td>9557</td>\n",
              "      <td>9557</td>\n",
              "      <td>9557</td>\n",
              "      <td>9557</td>\n",
              "      <td>9557</td>\n",
              "    </tr>\n",
              "    <tr>\n",
              "      <th>unique</th>\n",
              "      <td>9557</td>\n",
              "      <td>2988</td>\n",
              "      <td>31</td>\n",
              "      <td>22</td>\n",
              "      <td>22</td>\n",
              "    </tr>\n",
              "    <tr>\n",
              "      <th>top</th>\n",
              "      <td>ID_bcd33cb7d</td>\n",
              "      <td>fd8a6d014</td>\n",
              "      <td>yes</td>\n",
              "      <td>no</td>\n",
              "      <td>no</td>\n",
              "    </tr>\n",
              "    <tr>\n",
              "      <th>freq</th>\n",
              "      <td>1</td>\n",
              "      <td>13</td>\n",
              "      <td>2192</td>\n",
              "      <td>3762</td>\n",
              "      <td>6230</td>\n",
              "    </tr>\n",
              "  </tbody>\n",
              "</table>\n",
              "</div>"
            ],
            "text/plain": [
              "                  Id    idhogar dependency edjefe edjefa\n",
              "count           9557       9557       9557   9557   9557\n",
              "unique          9557       2988         31     22     22\n",
              "top     ID_bcd33cb7d  fd8a6d014        yes     no     no\n",
              "freq               1         13       2192   3762   6230"
            ]
          },
          "metadata": {
            "tags": []
          },
          "execution_count": 6
        }
      ]
    },
    {
      "cell_type": "code",
      "metadata": {
        "id": "W8X4Mro1-NyS"
      },
      "source": [
        "# idhogar variable in data has 2988 unique categorical values out of 9557 so we should drop this column.\n",
        "# ID column has 9557 unique categorical values out of 9557 so we should drop this column."
      ],
      "execution_count": null,
      "outputs": []
    },
    {
      "cell_type": "code",
      "metadata": {
        "id": "CzocFDw5-NyW",
        "colab": {
          "base_uri": "https://localhost:8080/"
        },
        "outputId": "bd1ef9f9-5137-403b-e76b-d7395c1ae1b4"
      },
      "source": [
        "# In dependency column according to dependency calculation I found that  8 is infinity and 'yes' is 1 and 'no' is 0.\n",
        "\n",
        "data.dependency.unique()"
      ],
      "execution_count": null,
      "outputs": [
        {
          "output_type": "execute_result",
          "data": {
            "text/plain": [
              "array(['no', '8', 'yes', '3', '.5', '.25', '2', '.66666669', '.33333334',\n",
              "       '1.5', '.40000001', '.75', '1.25', '.2', '2.5', '1.2', '4',\n",
              "       '1.3333334', '2.25', '.22222222', '5', '.83333331', '.80000001',\n",
              "       '6', '3.5', '1.6666666', '.2857143', '1.75', '.71428573',\n",
              "       '.16666667', '.60000002'], dtype=object)"
            ]
          },
          "metadata": {
            "tags": []
          },
          "execution_count": 8
        }
      ]
    },
    {
      "cell_type": "code",
      "metadata": {
        "id": "X4SwMK_n-Nyb",
        "colab": {
          "base_uri": "https://localhost:8080/"
        },
        "outputId": "75f42537-bd5a-4028-fd75-095d6f8654d6"
      },
      "source": [
        "# 'yes' is 1 and 'no' is 0.\n",
        "data.edjefe.unique()"
      ],
      "execution_count": null,
      "outputs": [
        {
          "output_type": "execute_result",
          "data": {
            "text/plain": [
              "array(['10', '12', 'no', '11', '9', '15', '4', '6', '8', '17', '7', '16',\n",
              "       '14', '5', '21', '2', '19', 'yes', '3', '18', '13', '20'],\n",
              "      dtype=object)"
            ]
          },
          "metadata": {
            "tags": []
          },
          "execution_count": 9
        }
      ]
    },
    {
      "cell_type": "code",
      "metadata": {
        "id": "fUbsO-ow-Nyh",
        "colab": {
          "base_uri": "https://localhost:8080/"
        },
        "outputId": "0bb348aa-314d-4734-f31c-8716ba3b5546"
      },
      "source": [
        "# 'yes' is 1 and 'no' is 0\n",
        "data.edjefa.unique()"
      ],
      "execution_count": null,
      "outputs": [
        {
          "output_type": "execute_result",
          "data": {
            "text/plain": [
              "array(['no', '11', '4', '10', '9', '15', '7', '14', '13', '8', '17', '6',\n",
              "       '5', '3', '16', '19', 'yes', '21', '12', '2', '20', '18'],\n",
              "      dtype=object)"
            ]
          },
          "metadata": {
            "tags": []
          },
          "execution_count": 10
        }
      ]
    },
    {
      "cell_type": "code",
      "metadata": {
        "id": "aItFRNdJ-Nyk",
        "colab": {
          "base_uri": "https://localhost:8080/"
        },
        "outputId": "331fd131-5931-41b6-8210-cc352be1c2d8"
      },
      "source": [
        "# cheaking for null values.\n",
        "data.isnull().sum().sort_values(ascending = False).head(6)"
      ],
      "execution_count": null,
      "outputs": [
        {
          "output_type": "execute_result",
          "data": {
            "text/plain": [
              "rez_esc      7928\n",
              "v18q1        7342\n",
              "v2a1         6860\n",
              "meaneduc        5\n",
              "SQBmeaned       5\n",
              "techozinc       0\n",
              "dtype: int64"
            ]
          },
          "metadata": {
            "tags": []
          },
          "execution_count": 11
        }
      ]
    },
    {
      "cell_type": "code",
      "metadata": {
        "id": "nJtybPcG-Nyo",
        "colab": {
          "base_uri": "https://localhost:8080/",
          "height": 296
        },
        "outputId": "7e7c017f-3408-464c-f9c7-6384b80698eb"
      },
      "source": [
        "# Visualizing these coulumns for missing values imputation\n",
        "\n",
        "sns.distplot(data.rez_esc.dropna())"
      ],
      "execution_count": null,
      "outputs": [
        {
          "output_type": "execute_result",
          "data": {
            "text/plain": [
              "<matplotlib.axes._subplots.AxesSubplot at 0x7f6d9d59c150>"
            ]
          },
          "metadata": {
            "tags": []
          },
          "execution_count": 12
        },
        {
          "output_type": "display_data",
          "data": {
            "image/png": "[encoded data removed]",
            "text/plain": [
              "<Figure size 432x288 with 1 Axes>"
            ]
          },
          "metadata": {
            "tags": [],
            "needs_background": "light"
          }
        }
      ]
    },
    {
      "cell_type": "code",
      "metadata": {
        "id": "INHNhBgH-Nyr",
        "colab": {
          "base_uri": "https://localhost:8080/",
          "height": 296
        },
        "outputId": "6cbff7a8-caee-4ac0-f554-dfc1eb60fe0a"
      },
      "source": [
        "sns.distplot(data.v18q1.dropna())"
      ],
      "execution_count": null,
      "outputs": [
        {
          "output_type": "execute_result",
          "data": {
            "text/plain": [
              "<matplotlib.axes._subplots.AxesSubplot at 0x7f6d9d521910>"
            ]
          },
          "metadata": {
            "tags": []
          },
          "execution_count": 13
        },
        {
          "output_type": "display_data",
          "data": {
            "image/png": "[encoded data removed]",
            "text/plain": [
              "<Figure size 432x288 with 1 Axes>"
            ]
          },
          "metadata": {
            "tags": [],
            "needs_background": "light"
          }
        }
      ]
    },
    {
      "cell_type": "code",
      "metadata": {
        "id": "xSE21E9X-Nyv",
        "colab": {
          "base_uri": "https://localhost:8080/",
          "height": 307
        },
        "outputId": "369f3dcf-f27e-4a86-bf84-7ad07d9d7e8d"
      },
      "source": [
        "# this shows that data is right skewed and we should impute missing values to mode\n",
        "\n",
        "sns.distplot(data.v2a1.dropna())"
      ],
      "execution_count": null,
      "outputs": [
        {
          "output_type": "execute_result",
          "data": {
            "text/plain": [
              "<matplotlib.axes._subplots.AxesSubplot at 0x7f6d9cf4e350>"
            ]
          },
          "metadata": {
            "tags": []
          },
          "execution_count": 14
        },
        {
          "output_type": "display_data",
          "data": {
            "image/png": "[encoded data removed]",
            "text/plain": [
              "<Figure size 432x288 with 1 Axes>"
            ]
          },
          "metadata": {
            "tags": [],
            "needs_background": "light"
          }
        }
      ]
    },
    {
      "cell_type": "code",
      "metadata": {
        "id": "fDTaT3Zo-Nyz",
        "colab": {
          "base_uri": "https://localhost:8080/",
          "height": 296
        },
        "outputId": "d73a3aaa-be11-43ee-da67-e8bcee8328fa"
      },
      "source": [
        "# this shows that data not too much skewed but it is near to normal distribution so we should impute missing values to mean.\n",
        "\n",
        "sns.distplot(data.meaneduc.dropna())"
      ],
      "execution_count": null,
      "outputs": [
        {
          "output_type": "execute_result",
          "data": {
            "text/plain": [
              "<matplotlib.axes._subplots.AxesSubplot at 0x7f6d9ceb4990>"
            ]
          },
          "metadata": {
            "tags": []
          },
          "execution_count": 15
        },
        {
          "output_type": "display_data",
          "data": {
            "image/png": "[encoded data removed]",
            "text/plain": [
              "<Figure size 432x288 with 1 Axes>"
            ]
          },
          "metadata": {
            "tags": [],
            "needs_background": "light"
          }
        }
      ]
    },
    {
      "cell_type": "code",
      "metadata": {
        "id": "p72Llu9p-Ny2",
        "colab": {
          "base_uri": "https://localhost:8080/",
          "height": 296
        },
        "outputId": "83bdb610-1758-45b6-ab2c-b50897f71e2e"
      },
      "source": [
        "# this shows that data is right skewed and we should impute missing values to mode.\n",
        "\n",
        "sns.distplot(data.SQBmeaned.dropna())"
      ],
      "execution_count": null,
      "outputs": [
        {
          "output_type": "execute_result",
          "data": {
            "text/plain": [
              "<matplotlib.axes._subplots.AxesSubplot at 0x7f6d9cd9d650>"
            ]
          },
          "metadata": {
            "tags": []
          },
          "execution_count": 16
        },
        {
          "output_type": "display_data",
          "data": {
            "image/png": "[encoded data removed]",
            "text/plain": [
              "<Figure size 432x288 with 1 Axes>"
            ]
          },
          "metadata": {
            "tags": [],
            "needs_background": "light"
          }
        }
      ]
    },
    {
      "cell_type": "code",
      "metadata": {
        "id": "Mdg2WgU1-Ny6",
        "colab": {
          "base_uri": "https://localhost:8080/"
        },
        "outputId": "7deab9cc-473f-43a6-ad76-17387123f238"
      },
      "source": [
        "# No. of Houses without family head.\n",
        "data.loc[data.parentesco1 == 0].Id.count()"
      ],
      "execution_count": null,
      "outputs": [
        {
          "output_type": "execute_result",
          "data": {
            "text/plain": [
              "6584"
            ]
          },
          "metadata": {
            "tags": []
          },
          "execution_count": 17
        }
      ]
    },
    {
      "cell_type": "code",
      "metadata": {
        "id": "w6s-5iE--Ny-"
      },
      "source": [
        "def correlation(data , threshold):\n",
        "    corr_val = set()\n",
        "    corr_matrics = data.corr()\n",
        "    for i in range(len(corr_matrics.columns)):\n",
        "        for j in range(i):\n",
        "            if abs(corr_matrics.iloc[i,j]) >= threshold:\n",
        "                col_name = corr_matrics.columns[i]\n",
        "                corr_val.add(col_name)\n",
        "    return corr_val"
      ],
      "execution_count": null,
      "outputs": []
    },
    {
      "cell_type": "code",
      "metadata": {
        "id": "MpjCof0X-NzB"
      },
      "source": [
        "corr_col = correlation(data,0.8)"
      ],
      "execution_count": null,
      "outputs": []
    },
    {
      "cell_type": "markdown",
      "metadata": {
        "id": "l7LrywU5-NzE"
      },
      "source": [
        "## Feature Engineering"
      ]
    },
    {
      "cell_type": "code",
      "metadata": {
        "id": "mFk5bFtx-NzF"
      },
      "source": [
        "data['dependency'] = data.dependency.replace(to_replace=['yes','no'], value = [1,0])"
      ],
      "execution_count": null,
      "outputs": []
    },
    {
      "cell_type": "code",
      "metadata": {
        "id": "ZMvDHlBA-NzI"
      },
      "source": [
        "data.dependency = data.dependency.astype('float64')"
      ],
      "execution_count": null,
      "outputs": []
    },
    {
      "cell_type": "code",
      "metadata": {
        "id": "SDWVlucm-NzN"
      },
      "source": [
        "# as these are useless they should be removed \n",
        "\n",
        "data = data.drop(columns=['idhogar','Id'])"
      ],
      "execution_count": null,
      "outputs": []
    },
    {
      "cell_type": "code",
      "metadata": {
        "id": "XkpCky_R-NzP"
      },
      "source": [
        "data['edjefa'],data['edjefe'] = data.edjefa.replace(to_replace = ['yes','no'], value = [1,0]),data.edjefe.replace(to_replace = ['yes','no'], value = [1,0])"
      ],
      "execution_count": null,
      "outputs": []
    },
    {
      "cell_type": "code",
      "metadata": {
        "id": "xs4VFVFZ-NzR"
      },
      "source": [
        "data.edjefa,data.edjefe = data.edjefa.astype('int64'),data.edjefa.astype(\"int64\")"
      ],
      "execution_count": null,
      "outputs": []
    },
    {
      "cell_type": "code",
      "metadata": {
        "id": "Tj4B8fFP-NzT"
      },
      "source": [
        "X = data.drop(columns=['Target'])\n",
        "y = data.Target"
      ],
      "execution_count": null,
      "outputs": []
    },
    {
      "cell_type": "code",
      "metadata": {
        "id": "QwVMhTNX-NzU"
      },
      "source": [
        "from sklearn.model_selection import train_test_split\n",
        "X_train,X_test,y_train,y_test = train_test_split(X,y,test_size = 0.30, random_state = 0)"
      ],
      "execution_count": null,
      "outputs": []
    },
    {
      "cell_type": "code",
      "metadata": {
        "id": "k8p_j40l-NzW"
      },
      "source": [
        "from sklearn.impute import SimpleImputer"
      ],
      "execution_count": null,
      "outputs": []
    },
    {
      "cell_type": "code",
      "metadata": {
        "id": "Aq7Moav--Nza"
      },
      "source": [
        "imp = SimpleImputer(strategy = 'most_frequent')"
      ],
      "execution_count": null,
      "outputs": []
    },
    {
      "cell_type": "code",
      "metadata": {
        "scrolled": true,
        "id": "Y9-jouQY-Nzc"
      },
      "source": [
        "X_train[['v2a1','SQBmeaned']] = imp.fit_transform(X_train[['v2a1','SQBmeaned']])\n",
        "X_test[['v2a1','SQBmeaned']] = imp.transform(X_test[['v2a1','SQBmeaned']])"
      ],
      "execution_count": null,
      "outputs": []
    },
    {
      "cell_type": "code",
      "metadata": {
        "id": "SAMAuuDD-Nze"
      },
      "source": [
        "from sklearn.impute import SimpleImputer\n",
        "imp = SimpleImputer()"
      ],
      "execution_count": null,
      "outputs": []
    },
    {
      "cell_type": "code",
      "metadata": {
        "id": "7OPYB934-Nzg"
      },
      "source": [
        "X_train[['meaneduc']] = imp.fit_transform(X_train[['meaneduc']])\n",
        "X_test[['meaneduc']] = imp.transform(X_test[['meaneduc']])"
      ],
      "execution_count": null,
      "outputs": []
    },
    {
      "cell_type": "code",
      "metadata": {
        "scrolled": true,
        "id": "XTMHIAgF-Nzi"
      },
      "source": [
        "X_train = X_train.drop(columns=['rez_esc','v18q1'])\n",
        "X_test = X_test.drop(columns=['rez_esc','v18q1'])"
      ],
      "execution_count": null,
      "outputs": []
    },
    {
      "cell_type": "code",
      "metadata": {
        "id": "yVik1T8S-Nzk"
      },
      "source": [
        "X_train = X_train.drop(columns=corr_col)\n",
        "X_test = X_test.drop(columns=corr_col)"
      ],
      "execution_count": null,
      "outputs": []
    },
    {
      "cell_type": "code",
      "metadata": {
        "id": "NayVjQYfa21z",
        "colab": {
          "base_uri": "https://localhost:8080/"
        },
        "outputId": "2a0e2c38-85f1-49c3-8945-27a05d141691"
      },
      "source": [
        "!pip install feature-engine"
      ],
      "execution_count": null,
      "outputs": [
        {
          "output_type": "stream",
          "text": [
            "Requirement already satisfied: feature-engine in /usr/local/lib/python3.7/dist-packages (1.0.2)\n",
            "Requirement already satisfied: pandas>=1.0.3 in /usr/local/lib/python3.7/dist-packages (from feature-engine) (1.1.5)\n",
            "Requirement already satisfied: scikit-learn>=0.22.2 in /usr/local/lib/python3.7/dist-packages (from feature-engine) (0.24.1)\n",
            "Requirement already satisfied: numpy>=1.18.2 in /usr/local/lib/python3.7/dist-packages (from feature-engine) (1.19.5)\n",
            "Requirement already satisfied: scipy>=1.4.1 in /usr/local/lib/python3.7/dist-packages (from feature-engine) (1.4.1)\n",
            "Requirement already satisfied: statsmodels>=0.11.1 in /usr/local/lib/python3.7/dist-packages (from feature-engine) (0.12.2)\n",
            "Requirement already satisfied: pytz>=2017.2 in /usr/local/lib/python3.7/dist-packages (from pandas>=1.0.3->feature-engine) (2018.9)\n",
            "Requirement already satisfied: python-dateutil>=2.7.3 in /usr/local/lib/python3.7/dist-packages (from pandas>=1.0.3->feature-engine) (2.8.1)\n",
            "Requirement already satisfied: joblib>=0.11 in /usr/local/lib/python3.7/dist-packages (from scikit-learn>=0.22.2->feature-engine) (1.0.1)\n",
            "Requirement already satisfied: threadpoolctl>=2.0.0 in /usr/local/lib/python3.7/dist-packages (from scikit-learn>=0.22.2->feature-engine) (2.1.0)\n",
            "Requirement already satisfied: patsy>=0.5 in /usr/local/lib/python3.7/dist-packages (from statsmodels>=0.11.1->feature-engine) (0.5.1)\n",
            "Requirement already satisfied: six>=1.5 in /usr/local/lib/python3.7/dist-packages (from python-dateutil>=2.7.3->pandas>=1.0.3->feature-engine) (1.15.0)\n"
          ],
          "name": "stdout"
        }
      ]
    },
    {
      "cell_type": "code",
      "metadata": {
        "id": "iSD-B5YobuvZ"
      },
      "source": [
        "# import feature_engine.outlier_removers"
      ],
      "execution_count": null,
      "outputs": []
    },
    {
      "cell_type": "code",
      "metadata": {
        "id": "Th87AUVx-Nzm"
      },
      "source": [
        "from feature_engine.outliers import Winsorizer\n",
        "Winsorizer = Winsorizer()"
      ],
      "execution_count": null,
      "outputs": []
    },
    {
      "cell_type": "code",
      "metadata": {
        "id": "atfjoeXw-Nzo"
      },
      "source": [
        "X_train = Winsorizer.fit_transform(X_train)\n",
        "X_test = Winsorizer.transform(X_test)"
      ],
      "execution_count": null,
      "outputs": []
    },
    {
      "cell_type": "code",
      "metadata": {
        "id": "M0oToxIr-Nzq"
      },
      "source": [
        "from sklearn.preprocessing import StandardScaler\n",
        "StandardScaler = StandardScaler()"
      ],
      "execution_count": null,
      "outputs": []
    },
    {
      "cell_type": "code",
      "metadata": {
        "id": "zKlIOADI-Nzs"
      },
      "source": [
        "X_train = StandardScaler.fit_transform(X_train)\n",
        "X_test = StandardScaler.transform(X_test)"
      ],
      "execution_count": null,
      "outputs": []
    },
    {
      "cell_type": "markdown",
      "metadata": {
        "id": "INJ-tlHr-Nzu"
      },
      "source": [
        "## MODELING"
      ]
    },
    {
      "cell_type": "code",
      "metadata": {
        "id": "pyvHI0t9-Nzu"
      },
      "source": [
        "from sklearn.metrics import accuracy_score"
      ],
      "execution_count": null,
      "outputs": []
    },
    {
      "cell_type": "code",
      "metadata": {
        "id": "Mt507YqG-Nzw"
      },
      "source": [
        "from sklearn.neighbors import KNeighborsClassifier\n",
        "from sklearn.ensemble import RandomForestClassifier\n",
        "from sklearn.ensemble import ExtraTreesClassifier\n",
        "from sklearn.ensemble import GradientBoostingClassifier\n",
        "\n",
        "KNN = KNeighborsClassifier()\n",
        "RFC = RandomForestClassifier(n_estimators=200)\n",
        "ETC = ExtraTreesClassifier(n_estimators=100)\n",
        "GBC = GradientBoostingClassifier(n_estimators=200)"
      ],
      "execution_count": null,
      "outputs": []
    },
    {
      "cell_type": "code",
      "metadata": {
        "id": "LiDRDRJ1-Nzz"
      },
      "source": [
        "KNN.fit(X_train,y_train)\n",
        "RFC.fit(X_train,y_train)\n",
        "ETC.fit(X_train,y_train)\n",
        "GBC.fit(X_train,y_train)\n",
        "\n",
        "KN_Train = KNN.predict(X_train)\n",
        "RF_Train = RFC.predict(X_train)\n",
        "ET_Train = ETC.predict(X_train)\n",
        "GBC_Train = GBC.predict(X_train)\n"
      ],
      "execution_count": null,
      "outputs": []
    },
    {
      "cell_type": "code",
      "metadata": {
        "id": "n0oeIY6t-Nz0"
      },
      "source": [
        "KN_Test = KNN.predict(X_test)\n",
        "RF_Test = RFC.predict(X_test)\n",
        "ET_Test = ETC.predict(X_test)\n",
        "GBC_Test = GBC.predict(X_test)"
      ],
      "execution_count": null,
      "outputs": []
    },
    {
      "cell_type": "code",
      "metadata": {
        "id": "9RZO9FtT-Nz3"
      },
      "source": [
        "KN_Train_Score = accuracy_score(y_train,KN_Train)\n",
        "RF_Train_Score = accuracy_score(y_train,RF_Train)\n",
        "ET_Train_Score = accuracy_score(y_train,ET_Train)\n",
        "GBC_Train_Score = accuracy_score(y_train,GBC_Train)\n"
      ],
      "execution_count": null,
      "outputs": []
    },
    {
      "cell_type": "code",
      "metadata": {
        "id": "rB9JgUQ9-Nz6"
      },
      "source": [
        "KN_Test_Score = accuracy_score(y_test,KN_Test)\n",
        "RF_Test_Score = accuracy_score(y_test,RF_Test)\n",
        "ET_Test_SCore = accuracy_score(y_test,ET_Test)\n",
        "GBC_Test_SCore = accuracy_score(y_test,GBC_Test)"
      ],
      "execution_count": null,
      "outputs": []
    },
    {
      "cell_type": "code",
      "metadata": {
        "id": "BcdGfdDT-Nz9",
        "colab": {
          "base_uri": "https://localhost:8080/"
        },
        "outputId": "56038ef6-a2e6-4dbf-dae8-0a066266b53b"
      },
      "source": [
        "print(\"KNeighborsClassifier train Performance = \",format(KN_Train_Score))\n",
        "print(\"KNeighborsClassifier test Performance = \",format(KN_Test_Score))\n",
        "print(\"RandomForestClassifier train Performance = \",format(RF_Train_Score))\n",
        "print(\"RandomForestClassifier test Performance = \",format(RF_Test_Score))\n",
        "print(\"ExtraTreesClassifier train Performance = \",format(ET_Train_Score))\n",
        "print(\"ExtraTreesClassifier test Performance = \",format(ET_Test_SCore))\n",
        "print(\"GradientBoostingClassifier train Performance = \",format(GBC_Train_Score))\n",
        "print(\"GradientBoostingClassifier test Performance = \",format(GBC_Test_SCore))"
      ],
      "execution_count": null,
      "outputs": [
        {
          "output_type": "stream",
          "text": [
            "KNeighborsClassifier train Performance =  0.8611152638660488\n",
            "KNeighborsClassifier test Performance =  0.74581589958159\n",
            "RandomForestClassifier train Performance =  1.0\n",
            "RandomForestClassifier test Performance =  0.903068340306834\n",
            "ExtraTreesClassifier train Performance =  1.0\n",
            "ExtraTreesClassifier test Performance =  0.9225941422594143\n",
            "GradientBoostingClassifier train Performance =  0.8452683510240694\n",
            "GradientBoostingClassifier test Performance =  0.7737099023709902\n"
          ],
          "name": "stdout"
        }
      ]
    },
    {
      "cell_type": "code",
      "metadata": {
        "id": "bt87XvK8-Nz_"
      },
      "source": [
        "# This shows that ExtraTreeClassifier algorithm is the best for this data."
      ],
      "execution_count": null,
      "outputs": []
    }
  ]
}